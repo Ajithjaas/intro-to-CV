{
  "cells": [
    {
      "cell_type": "markdown",
      "metadata": {
        "id": "zoAmRych4zjz"
      },
      "source": [
        "# RBE/CS549 Fall 2022: Computer Vision\n",
        "## Homework 0: Alohomora\n",
        "\n",
        "Author(s): \n",
        "Prof. Nitin J. Sanket (nsanket@wpi.edu), Lening Li (lli4@wpi.edu), Gejji, Vaishnavi Vivek (vgejji@wpi.edu)\n",
        "\n",
        "Robotics Engineering Department,\n",
        "\n",
        "Worcester Polytechnic Institute\n",
        "\n",
        "Code adapted from CMSC733 at the University of Maryland, College Park."
      ]
    },
    {
      "cell_type": "markdown",
      "metadata": {
        "id": "_OTbKmZc84z9"
      },
      "source": [
        "\n",
        "## Phase 1\n",
        "\n",
        "\n"
      ]
    },
    {
      "cell_type": "markdown",
      "metadata": {
        "id": "tShNtcK9syo_"
      },
      "source": [
        "### Get the BSDS500 dataset"
      ]
    },
    {
      "cell_type": "code",
      "execution_count": null,
      "metadata": {
        "id": "6poCzkgco7sv"
      },
      "outputs": [],
      "source": [
        "!wget https://raw.githubusercontent.com/leelening/rbe549/main/hw0/BSDS500.tar.xz\n",
        "!tar -xvf BSDS500.tar.xz\n",
        "!mv BSDS500/ /content/data/"
      ]
    },
    {
      "cell_type": "code",
      "execution_count": null,
      "metadata": {
        "id": "6FH307bN0MDt"
      },
      "outputs": [],
      "source": [
        "!wget https://raw.githubusercontent.com/leelening/rbe549/main/hw0/TxtFiles.tar.xz\n",
        "!tar -xvf TxtFiles.tar.xz\n",
        "!mv TxtFiles/ /content/data/"
      ]
    },
    {
      "cell_type": "code",
      "execution_count": null,
      "metadata": {
        "id": "lak3Alk44zj1"
      },
      "outputs": [],
      "source": [
        "import os.path\n",
        "from os import path\n",
        "import numpy as np\n",
        "import cv2\n",
        "import matplotlib.pyplot as plt\n",
        "from scipy.signal import convolve2d\n",
        "import imutils\n",
        "from sklearn.cluster import KMeans"
      ]
    },
    {
      "cell_type": "code",
      "execution_count": null,
      "metadata": {
        "id": "JjpCrITPbzAz"
      },
      "outputs": [],
      "source": [
        "\n",
        "Filter_Out = '/content/data/Filter_Output/'\n",
        "if path.exists(Filter_Out) == False:\n",
        "  os.mkdir(Filter_Out)"
      ]
    },
    {
      "cell_type": "code",
      "execution_count": null,
      "metadata": {
        "id": "QkTdTz-0sdtL"
      },
      "outputs": [],
      "source": [
        "img = cv2.imread(\"/content/data/Images/2.jpg\")\n",
        "plt.axis(\"off\")\n",
        "plt.imshow(cv2.cvtColor(img,cv2.COLOR_BGR2RGB))"
      ]
    },
    {
      "cell_type": "markdown",
      "metadata": {
        "id": "mN-AX2a04zj2"
      },
      "source": [
        "1. Generate Difference of Gaussian Filter Bank: (DoG)\n",
        "2. Display all the filters in this filter bank and save image as DoG.png,\n",
        "3. use command \"cv2.imwrite(...)\""
      ]
    },
    {
      "cell_type": "code",
      "execution_count": null,
      "metadata": {
        "id": "UEpnMgO64zj3"
      },
      "outputs": [],
      "source": [
        "def gaussian2d(kernel_size,sd):\n",
        "  # size = int(kernel_size/2);          # Dividing the matrix such that the middle is kept as zero        \n",
        "  size = int((kernel_size-1)/2);        # (Kernel_size -1) is done to keep the final matrix less than or equal to the size of the kernel.\n",
        "  x = [i for i in range(-size,size+1)]; # An array with equal values extending on both negative and positive side\n",
        "  x,y = np.meshgrid(x,x)                # Creating a mesh grid\n",
        "  z = np.power(x,2)+np.power(y,2)       # Using the x,y mesh values to calculate a function value (In this case a upward paraboloid)\n",
        "  \n",
        "  # gaussian = (1/np.sqrt(2*np.pi)*sd)*np.exp(-z/(2*np.power(sd,2))) \n",
        "  gaussian = (1/2*np.pi*np.power(sd,2))*np.exp(-z/(2*np.power(sd,2))) # Substituting the values in the gaussian equaation to get a 2D gaussian matrix\n",
        "  return gaussian\n",
        "\n",
        "def DoG_Filter_Bank(sd,orientation,kernel_size=5):\n",
        "    '''\n",
        "      sobel_x = [[-1,  0,  1]\n",
        "                 [-2,  0,  2]\n",
        "                 [-1,  0,  1]];\n",
        "    \n",
        "      sobel_y = [[-1,  -2,  -1]\n",
        "                 [0,  0,  0]\n",
        "                 [1, 2, 1]];\n",
        "    '''\n",
        "    # sd = [1,2,3]\n",
        "    # orientation = [0,90,180,270]\n",
        "    # kernel_size = 5\n",
        "    bank = []\n",
        "    sobel_fil = np.mat([[-1,  -2,  -1],[0,  0,  0], [1, 2, 1]])   # Only one filter is used because as the filter is considered in different orientation it also accomodates for the other direction.\n",
        "    \n",
        "    for i in sd:\n",
        "        filter = convolve2d(gaussian2d(kernel_size,i), sobel_fil,mode='same')\n",
        "        for j in orientation:\n",
        "            fil = imutils.rotate(filter, j)\n",
        "            bank.append(fil)\n",
        "    \n",
        "    # print(bank)\n",
        "    fig, axs = plt.subplots(len(sd),len(orientation),figsize=(len(orientation),len(sd)))\n",
        "    for i in range(len(sd)):\n",
        "      for j in range(len(orientation)):\n",
        "            # a = [0,1,2]\n",
        "            # b = [0,1,2,3]\n",
        "            # for i in a:con\n",
        "            #   for j in b:\n",
        "            #     print(c[i*len(b)+j])\n",
        "            axs[i, j].imshow(bank[i*len(orientation)+j],cmap='gray')\n",
        "            axs[i, j].axis('off')\n",
        "\n",
        "    plt.show()\n",
        "    return bank\n",
        "\n",
        "kernel_size = 9\n",
        "sigma = [1,2];\n",
        "orientations = np.linspace(0,360,17)[:-1]\n",
        "DoG_Filters = DoG_Filter_Bank(sigma,orientations,kernel_size)"
      ]
    },
    {
      "cell_type": "markdown",
      "metadata": {
        "id": "W9sMEggi4zj3"
      },
      "source": [
        "\n",
        "1. Generate Leung-Malik Filter Bank: (LM)\n",
        "2. Display all the filters in this filter bank and save image as LM.png,\n",
        "3. use command \"cv2.imwrite(...)\"\n"
      ]
    },
    {
      "cell_type": "code",
      "execution_count": null,
      "metadata": {
        "id": "K_ihdTUc4zj3"
      },
      "outputs": [],
      "source": [
        "def gaussian(kernel_size,sd): \n",
        "  sdx = sd\n",
        "  sdy = sd*3  \n",
        "  size = int((kernel_size-1)/2);        # (Kernel_size -1) is done to keep the final matrix less than or equal to the size of the kernel.\n",
        "  x = [i for i in range(-size,size+1)]; # An array with equal values extending on both negative and positive side\n",
        "  x,y = np.meshgrid(x,x)                # Creating a mesh grid\n",
        "  gaussian = (1/(2*np.pi*sdx*sdy))*np.exp(-0.5*(x**2/sdx**2 + y**2/sdy**2)) # Substituting the values in the gaussian equaation to get a 2D gaussian matrix\n",
        "  return gaussian\n",
        "\n",
        "def LoG(kernel_size,sd):\n",
        "  size = int((kernel_size-1)/2);        # (Kernel_size -1) is done to keep the final matrix less than or equal to the size of the kernel.\n",
        "  x = [i for i in range(-size,size+1)]; # An array with equal values extending on both negative and positive side\n",
        "  x,y = np.meshgrid(x,x)                # Creating a mesh grid\n",
        "  LaplaceOfGaussian  = (-1/(np.pi * sd**4))*(1-(x**2 + y**2)/(2 * sd**2))*np.exp(-0.5*(x**2+ y**2)/sd**2)\n",
        "  return LaplaceOfGaussian\n",
        "\n",
        "\n",
        "def Leung_Malik_Bank(sd,orientation,kernel_size=5):\n",
        "  '''\n",
        "  https://academic.mu.edu/phys/matthysd/web226/Lab02.htm\n",
        "  '''\n",
        "  bank = [];\n",
        "  sobel_fil = np.mat([[-1,  0,  1], [-2,  0,  2], [-1,  0,  1]]);\n",
        "  # sobel_fil = np.mat([[-1,  -2,  -1],[0,  0,  0], [1, 2, 1]])   # Only one filter is used because as the filter is considered in different orientation it also accomodates for the other direction.\n",
        "\n",
        "  for i in reversed(sd[:3]):\n",
        "      filter_d1 = convolve2d(gaussian(kernel_size,i), sobel_fil, mode='same')\n",
        "      filter_d2 = convolve2d(filter_d1, sobel_fil, mode='same')\n",
        "      # print(\"Filter_D1: \\n\",filter_d1)\n",
        "      # print(\"Filter_D2: \\n\",filter_d2)\n",
        "      for j in orientation:\n",
        "          fil1 = imutils.rotate(filter_d1, j)\n",
        "          bank.append(fil1)\n",
        "      for j in orientation:    \n",
        "          fil2 = imutils.rotate(filter_d2, j)  \n",
        "          bank.append(fil2)\n",
        "\n",
        "  # Laplace of Gaussian\n",
        "  for i in sd:\n",
        "      LOG_sd = LoG(kernel_size,i) # Function call for standard deviation of sigma\n",
        "      bank.append(LOG_sd)\n",
        "\n",
        "  for i in sd:\n",
        "      LOG_3sd = LoG(kernel_size,float(3*i)) # Function call for standard deviation of 3*sigma\n",
        "      bank.append(LOG_3sd)\n",
        "\n",
        "  for i in sd:\n",
        "    bank.append(gaussian2d(kernel_size,i))\n",
        "\n",
        "  print(len(bank))\n",
        "  fig, axs = plt.subplots(4,12,figsize=(12,4))\n",
        "  for i in range(4):\n",
        "    for j in range(12):\n",
        "          axs[i, j].imshow(bank[i*12+j],cmap='gray')\n",
        "          axs[i, j].axis('off')\n",
        "\n",
        "  plt.show()\n",
        "  return bank\n",
        "\n",
        "def Leung_Malik_Small(kernel_size):\n",
        "  sigma = [1, np.sqrt(2), 2, 2*np.sqrt(2)];\n",
        "  orientations = np.linspace(90,-90,7)[:-1]\n",
        "  LM_Bank_small = Leung_Malik_Bank(sigma,orientations,kernel_size)\n",
        "  return LM_Bank_small\n",
        "\n",
        "def Leung_Malik_Large(kernel_size):\n",
        "  sigma = [np.sqrt(2), 2, 2*np.sqrt(2), 4];\n",
        "  orientations = np.linspace(90,-90,7)[:-1]\n",
        "  LM_Bank_Large = Leung_Malik_Bank(sigma,orientations,kernel_size)\n",
        "  return LM_Bank_Large\n",
        "\n",
        "\n",
        "##### Function Call #####\n",
        "val = int(input(\"Please enter the size of the Leung_Malik Filter : \\n1.Large \\n2.Small \\n\"))\n",
        "kernel_size = int(input(\"\\nPlease enter the kernel size (Only odd Number) : \\n\"))\n",
        "\n",
        "if val == 1:\n",
        "  LM_Bank = Leung_Malik_Large(kernel_size)\n",
        "elif val == 2:\n",
        "  LM_Bank = Leung_Malik_Small(kernel_size)\n",
        "else:\n",
        "  print(\"Choice doesn't exist\")"
      ]
    },
    {
      "cell_type": "markdown",
      "metadata": {
        "id": "iWPCb37t4zj3"
      },
      "source": [
        "1. Generate Gabor Filter Bank: (Gabor)\n",
        "2. Display all the filters in this filter bank and save image as Gabor.png,\n",
        "3. use command \"cv2.imwrite(...)\"\n"
      ]
    },
    {
      "cell_type": "code",
      "execution_count": null,
      "metadata": {
        "id": "N3RUEhBJ4zj4"
      },
      "outputs": [],
      "source": [
        "def gabor(side_x, sigma, theta, Lambda, gamma, psi):\n",
        "  '''\n",
        "    side_x  - The size of x direction of kernel when rot angle is zero\n",
        "    sigma   - The standard deviation corresponsing to the x-axis\n",
        "    theta   - The angle of rotation of the filter\n",
        "    Lambda  - The wavelength of sinusoidal component\n",
        "    gamma   - Spatial aspect ratio (y/x)\n",
        "    psi     - Phase offset of the sinusoidal function\n",
        "  '''\n",
        "  gabor_bank = []\n",
        "  x = side_x\n",
        "  y = int(side_x /gamma)\n",
        "  X,Y = np.meshgrid(np.linspace(-int((x-1)/2),int((x-1)/2),x),np.linspace(-int((y-1)/2),int((y-1)/2),y))\n",
        "\n",
        "  for i,l in zip(sigma,Lambda):\n",
        "      for j in theta:\n",
        "          # sigma_x = i\n",
        "          # sigma_y = float(i) / gamma\n",
        "          x_prime = X*np.cos(j) + Y*np.sin(j)\n",
        "          y_prime = -X*np.sin(j) + Y*np.cos(j)\n",
        "          # gabor_filter = np.exp(-(x_prime**2/sigma_x**2 + y_prime**2/sigma_y**2))*np.cos(2*np.pi/l *x_prime + psi)\n",
        "          gabor_filter = np.exp(-((x_prime**2 + y_prime**2)/i**2))*np.cos(2*np.pi/l *x_prime + psi)\n",
        "          gabor_bank.append(gabor_filter);\n",
        "  \n",
        "  # print(bank)\n",
        "  fig, axs = plt.subplots(len(sigma),len(theta),figsize=(len(theta),len(sigma)))\n",
        "  for i in range(len(sigma)):\n",
        "    for j in range(len(theta)):\n",
        "          axs[i, j].imshow(gabor_bank[i*len(theta)+j],cmap='gray')\n",
        "          axs[i, j].axis('off')\n",
        "  plt.show()\n",
        "\n",
        "  return gabor_bank\n",
        "\n",
        "side_x = 100\n",
        "sigma = [20, 30, 40, 50, 60]\n",
        "theta = np.deg2rad(np.linspace(-90,90,9))[:-1]\n",
        "Lambda = [10, 15, 20, 25, 30]\n",
        "gamma = 1\n",
        "psi   = 0\n",
        "\n",
        "gb = gabor(side_x, sigma, theta, Lambda, gamma, psi)"
      ]
    },
    {
      "cell_type": "markdown",
      "metadata": {
        "id": "VhZSwN8W4zj4"
      },
      "source": [
        "1. Generate Half-disk masks\n",
        "2. Display all the Half-disk masks and save image as HDMasks.png,\n",
        "3. use command \"cv2.imwrite(...)\""
      ]
    },
    {
      "cell_type": "code",
      "execution_count": null,
      "metadata": {
        "id": "H43aTHdD4zj4"
      },
      "outputs": [],
      "source": [
        "def half_disk(diameter):\n",
        "  K = np.zeros((diameter,diameter))\n",
        "  r = diameter/2\n",
        "  c = int((diameter-1)/2)\n",
        "  for i in range(diameter):\n",
        "    for j in range(diameter):\n",
        "      dist = (i-c)**2 + (j-c)**2\n",
        "      if dist <= r**2:\n",
        "        K[i,j] = 1\n",
        "\n",
        "  for i in range(diameter):\n",
        "    for j in range(diameter):\n",
        "      if j >= c:\n",
        "        K[i,j] = 0\n",
        "\n",
        "  return K\n",
        "\n",
        "\n",
        "def half_disk_filter(kernel_size,orientations):\n",
        "  halfDisk_bank = []\n",
        "  for i in kernel_size:\n",
        "    filter = half_disk(i)\n",
        "    for j in orientations:\n",
        "      fil = imutils.rotate(filter, j);\n",
        "      fil = np.ceil(fil)\n",
        "      halfDisk_bank.append(fil)\n",
        "\n",
        "  # fig, axs = plt.subplots(int(2*len(kernel_size)),int(len(orientations)/2),figsize=(int(len(orientations)/2),int(2*len(kernel_size))))\n",
        "  # for i in range(int(2*len(kernel_size))):\n",
        "  #   for j in range(int(len(orientations)/2)):\n",
        "  #         axs[i, j].imshow(halfDisk_bank[i*int(len(orientations)/2)+j],cmap='gray')\n",
        "  #         axs[i, j].axis('off')\n",
        "\n",
        "  fig, axs = plt.subplots(len(kernel_size),len(orientations),figsize=(len(orientations),len(kernel_size)))\n",
        "  for i in range(len(kernel_size)):\n",
        "    for j in range(len(orientations)):\n",
        "          axs[i, j].imshow(halfDisk_bank[i*len(orientations)+j],cmap='gray')\n",
        "          axs[i, j].axis('off')\n",
        "  \n",
        "\n",
        "  plt.show()\n",
        "  return halfDisk_bank\n",
        "\n",
        "kernel_size = [7,17,27]\n",
        "orientations = np.linspace(0,360,17)[:-1]\n",
        "halfDisk_bank = half_disk_filter(kernel_size,orientations)\n",
        "print(len(halfDisk_bank))"
      ]
    },
    {
      "cell_type": "markdown",
      "metadata": {
        "id": "VsO2z2ub4zj5"
      },
      "source": [
        "1. Generate Texton Map\n",
        "2. Filter image using oriented gaussian filter bank\n"
      ]
    },
    {
      "cell_type": "code",
      "execution_count": null,
      "metadata": {
        "id": "Vgj0PwKhJg-y"
      },
      "outputs": [],
      "source": [
        "def TextonMap(Img,filter_bank):\n",
        "  FilImgs = []\n",
        "  Img = cv2.cvtColor(Img, cv2.COLOR_BGR2GRAY)\n",
        "  \n",
        "  for i in range(len(filter_bank)):\n",
        "    fil_img = convolve2d(np.array(Img),np.array(filter_bank[i]), mode='same')\n",
        "    FilImgs.append(fil_img)\n",
        "\n",
        "  FilImgs = np.array(FilImgs)\n",
        "  return FilImgs\n",
        "\n",
        "DoG_Texton_Map = TextonMap(img,DoG_Filters)"
      ]
    },
    {
      "cell_type": "markdown",
      "metadata": {
        "id": "ifGTkHv84zj5"
      },
      "source": [
        "1. Generate texture ID's using K-means clustering\n",
        "2. Display texton map and save image as TextonMap_ImageName.png,\n",
        "3. use command \"cv2.imwrite('...)\"\n"
      ]
    },
    {
      "cell_type": "code",
      "execution_count": null,
      "metadata": {
        "id": "Uhd-eznB4zj5"
      },
      "outputs": [],
      "source": [
        "def TextonID(TextonMaps):\n",
        "  K = 16\n",
        "  Temp = np.reshape(TextonMaps,(TextonMaps.shape[0],TextonMaps.shape[1]*TextonMaps.shape[2]))\n",
        "  KM = KMeans(n_clusters=K, tol=0.0001).fit(Temp.T) # \n",
        "  TextonIDMaps = KM.labels_.reshape(TextonMaps.shape[1],TextonMaps.shape[2])\n",
        "  # print(KM.labels_.shape)\n",
        "  return TextonIDMaps,K\n",
        "\n",
        "textonIdMap,K = TextonID(DoG_Texton_Map)\n",
        "cv2.imwrite(Filter_Out + \"textonIdMap.png\", textonIdMap)\n",
        "plt.axis(\"off\")\n",
        "plt.imshow(textonIdMap)"
      ]
    },
    {
      "cell_type": "markdown",
      "metadata": {
        "id": "KhkWsyiV4zj6"
      },
      "source": [
        "1. Generate Texton Gradient (Tg)\n",
        "2. Perform Chi-square calculation on Texton Map\n",
        "3. Display Tg and save image as Tg_ImageName.png,\n",
        "4. use command \"cv2.imwrite(...)\"\n"
      ]
    },
    {
      "cell_type": "code",
      "execution_count": null,
      "metadata": {
        "id": "mXPbc8FE4zj6"
      },
      "outputs": [],
      "source": [
        "def gradient_fn(InputMap,K,halfDisk_bank):\n",
        "  # print(InputMap.shape)\n",
        "  NoOfFil = len(halfDisk_bank)\n",
        "  H,W = InputMap.shape\n",
        "  min_array = np.array([[1e-9 for j in range(W)] for i in range(H)]) # Min value array to prevent division by zero error in Chi-square calculation\n",
        "  index = 0\n",
        "  grad = np.zeros((int(NoOfFil/2),H,W))\n",
        "  for i in range(NoOfFil):\n",
        "    if (i+8) % 16 != 0:\n",
        "      left_mask = halfDisk_bank[i]\n",
        "      right_mask = halfDisk_bank[i+8]\n",
        "      chi_square = np.zeros((H,W))\n",
        "      for k in range(K):\n",
        "        # print(InputMap.shape)\n",
        "        Img_ = InputMap.copy()\n",
        "        Img_[InputMap == k] = 1.0 \n",
        "        Img_[InputMap != k] = 0.0\n",
        "        # print(Img_.shape)\n",
        "        gi = convolve2d(Img_, left_mask, mode='same')\n",
        "        hi = convolve2d(Img_, right_mask, mode='same')\n",
        "        # print(g_i.shape)\n",
        "        # print(h_i.shape)\n",
        "        #χ2  distance between two histograms g and h\n",
        "        chi_square = chi_square + np.divide((gi - hi)**2, gi + hi + min_array)\n",
        "      grad[index,:,:] = 0.5*chi_square\n",
        "      index = index + 1 \n",
        "    else:\n",
        "      i = i + 8\n",
        "    return grad"
      ]
    },
    {
      "cell_type": "code",
      "execution_count": null,
      "metadata": {
        "id": "nJTSIJGUPLMW"
      },
      "outputs": [],
      "source": [
        "textronGrad = gradient_fn(textonIdMap,K,halfDisk_bank)\n",
        "textronGrad_Avg = textronGrad.mean(axis=0,dtype=np.float32)\n",
        "cv2.imwrite(Filter_Out + \"textronGrad_Avg.png\", textronGrad_Avg)\n",
        "plt.imshow(textronGrad_Avg)"
      ]
    },
    {
      "cell_type": "markdown",
      "metadata": {
        "id": "8vrXv0ff4zj6"
      },
      "source": [
        "1. Generate Brightness Map\n",
        "2. Perform brightness binning\n"
      ]
    },
    {
      "cell_type": "code",
      "execution_count": null,
      "metadata": {
        "id": "cI7Lc_bNPPe-"
      },
      "outputs": [],
      "source": [
        "def BrightnessMaps(Img_gray):\n",
        "  K = 16\n",
        "  Img_gray_ = Img_gray.reshape(-1,1)\n",
        "  KM = KMeans(n_clusters=K, tol=0.0001).fit(Img_gray_) \n",
        "  BrightnessIDMaps = KM.labels_.reshape(Img_gray.shape[0],Img_gray.shape[1])\n",
        "  return BrightnessIDMaps, K\n",
        "\n",
        "BrightnessIDMaps,K = BrightnessMaps(cv2.cvtColor(img,cv2.COLOR_BGR2GRAY))\n",
        "cv2.imwrite(Filter_Out + \"BrightnessIDMaps.png\", BrightnessIDMaps)\n",
        "plt.imshow(BrightnessIDMaps)"
      ]
    },
    {
      "cell_type": "markdown",
      "metadata": {
        "id": "SKOitvW34zj6"
      },
      "source": [
        "1. Generate Brightness Gradient (Bg)\n",
        "2. Perform Chi-square calculation on Brightness Map\n",
        "3. Display Bg and save image as Bg_ImageName.png,\n",
        "4. use command \"cv2.imwrite(...)\"\n",
        "\n"
      ]
    },
    {
      "cell_type": "code",
      "execution_count": null,
      "metadata": {
        "id": "hCOD81PA4zj7"
      },
      "outputs": [],
      "source": [
        "BrightnessGrad = gradient_fn(BrightnessIDMaps,K,halfDisk_bank)\n",
        "BrightnessGrad_Avg = BrightnessGrad.mean(axis=0,dtype=np.float32)\n",
        "cv2.imwrite(Filter_Out + \"BrightnessGrad_Avg.png\", BrightnessGrad_Avg)\n",
        "plt.imshow(BrightnessGrad_Avg)"
      ]
    },
    {
      "cell_type": "markdown",
      "metadata": {
        "id": "NHJXA-HM4zj7"
      },
      "source": [
        "1. Generate Color Map\n",
        "2. Perform color binning or clustering\n"
      ]
    },
    {
      "cell_type": "code",
      "execution_count": null,
      "metadata": {
        "id": "0m2LGULC4zj7"
      },
      "outputs": [],
      "source": [
        "def ColorMap(Img):\n",
        "  K = 16\n",
        "  Temp = np.reshape(Img,(Img.shape[0]*Img.shape[1],Img.shape[2]))\n",
        "  KM = KMeans(n_clusters=K, tol=0.0001).fit(Temp) \n",
        "  ColorIDMaps = KM.labels_.reshape(Img.shape[0],Img.shape[1])\n",
        "  return ColorIDMaps,K\n",
        "\n",
        "ColorIDMaps,K = ColorMap(cv2.cvtColor(img,cv2.COLOR_BGR2RGB))\n",
        "cv2.imwrite(Filter_Out + \"ColorIDMaps.png\", ColorIDMaps)\n",
        "plt.imshow(ColorIDMaps)"
      ]
    },
    {
      "cell_type": "markdown",
      "metadata": {
        "id": "SO27XPii4zj7"
      },
      "source": [
        "\n",
        "\n",
        "\n",
        "1. Generate Color Gradient (Cg)\n",
        "2. Perform Chi-square calculation on Color Map\n",
        "3. Display Cg and save image as Cg_ImageName.png,\n",
        "4. use command \"cv2.imwrite(...)\"\n",
        "\n"
      ]
    },
    {
      "cell_type": "code",
      "execution_count": null,
      "metadata": {
        "id": "t_BnNy7s4zj7"
      },
      "outputs": [],
      "source": [
        "ColorGrad = gradient_fn(ColorIDMaps,K,halfDisk_bank)\n",
        "ColorGrad_Avg = ColorGrad.mean(axis=0,dtype=np.float32)\n",
        "cv2.imwrite(Filter_Out + \"ColorGrad_Avg.png\", ColorGrad_Avg)\n",
        "plt.imshow(ColorGrad_Avg)"
      ]
    },
    {
      "cell_type": "markdown",
      "metadata": {
        "id": "nmy__th24zj7"
      },
      "source": [
        "\n",
        "1. Read Sobel Baseline\n",
        "2. use command \"cv2.imread(...)\"\n"
      ]
    },
    {
      "cell_type": "code",
      "execution_count": null,
      "metadata": {
        "id": "vapObHsb4zj7"
      },
      "outputs": [],
      "source": [
        "sobelBaselinePath = \"/content/data/SobelBaseline/2.png\"\n",
        "sobelOut = cv2.imread(sobelBaselinePath,0) #rEading gray scale Sobel baseline\n",
        "plt.imshow(sobelOut,cmap=\"gray\")"
      ]
    },
    {
      "cell_type": "markdown",
      "metadata": {
        "id": "nMm0qhf-4zj8"
      },
      "source": [
        "\n",
        "\n",
        "\n",
        "1. Read Canny Baseline\n",
        "2. use command \"cv2.imread(...)\"\n",
        "\n"
      ]
    },
    {
      "cell_type": "code",
      "execution_count": null,
      "metadata": {
        "id": "9ZcgUAqK4zj8"
      },
      "outputs": [],
      "source": [
        "CannyBaselinePath = \"/content/data/CannyBaseline/2.png\"\n",
        "CannyOut = cv2.imread(CannyBaselinePath,0) #rEading gray scale Sobel baseline\n",
        "plt.imshow(CannyOut,cmap=\"gray\")"
      ]
    },
    {
      "cell_type": "markdown",
      "metadata": {
        "id": "Y1Ut3_c74zj8"
      },
      "source": [
        "\n",
        "\n",
        "1. Combine responses to get pb-lite output\n",
        "2. Display PbLite and save image as PbLite_ImageName.png\n",
        "3. use command \"cv2.imwrite(...)\"\n",
        "\n"
      ]
    },
    {
      "cell_type": "code",
      "execution_count": null,
      "metadata": {
        "id": "TpC2Z26r4zj8"
      },
      "outputs": [],
      "source": [
        "PbLite = np.multiply((textronGrad_Avg + BrightnessGrad_Avg + ColorGrad_Avg)/3 , 0.5*(CannyOut + sobelOut))\n",
        "cv2.imwrite(Filter_Out + \"PbLite.png\", PbLite)\n",
        "plt.imshow(PbLite,cmap=\"gray\")"
      ]
    },
    {
      "cell_type": "markdown",
      "metadata": {
        "id": "e2aeH7uq8qR7"
      },
      "source": [
        "## Phase 2"
      ]
    },
    {
      "cell_type": "code",
      "execution_count": null,
      "metadata": {
        "id": "qlLRGsaYv7w7"
      },
      "outputs": [],
      "source": [
        "import torch\n",
        "if torch.cuda.is_available():\n",
        "  device = torch.device(\"cuda\")\n",
        "else:\n",
        "  device = torch.device(\"cpu\")\n",
        "print(torch.cuda.get_device_name())"
      ]
    },
    {
      "cell_type": "code",
      "execution_count": null,
      "metadata": {
        "id": "jGCHa0pfIss-"
      },
      "outputs": [],
      "source": [
        "import torch.nn as nn\n",
        "import torch.nn.functional as F\n",
        "import numpy as np\n",
        "\n",
        "def accuracy(outputs, labels):\n",
        "    _, preds = torch.max(outputs, dim=1)\n",
        "    return torch.tensor(torch.sum(preds == labels).item() / len(preds))\n",
        "\n",
        "def loss_fn(out, labels):\n",
        "    ###############################################\n",
        "    # Fill your loss function of choice here!\n",
        "    ###############################################\n",
        "    LossFn = nn.CrossEntropyLoss()\n",
        "    loss = LossFn(out, labels)\n",
        "    return loss\n",
        "\n",
        "class ImageClassificationBase(nn.Module):\n",
        "    def training_step(self, batch):\n",
        "        images, labels = batch \n",
        "        out = self(images)                  # Generate predictions\n",
        "        loss = loss_fn(out, labels)         # Calculate loss\n",
        "        return loss\n",
        "    \n",
        "    def validation_step(self, batch):\n",
        "        images, labels = batch \n",
        "        out = self(images)                    # Generate predictions\n",
        "        loss = loss_fn(out, labels)           # Calculate loss\n",
        "        acc = accuracy(out, labels)           # Calculate accuracy\n",
        "        return {'loss': loss.detach(), 'acc': acc}\n",
        "        \n",
        "    def validation_epoch_end(self, outputs):\n",
        "        batch_losses = [x['loss'] for x in outputs]\n",
        "        epoch_loss = torch.stack(batch_losses).mean()   # Combine losses\n",
        "        batch_accs = [x['acc'] for x in outputs]\n",
        "        epoch_acc = torch.stack(batch_accs).mean()      # Combine accuracies\n",
        "        return {'loss': epoch_loss.item(), 'acc': epoch_acc.item()}\n",
        "    \n",
        "    def epoch_end(self, epoch, result):\n",
        "        print(\"Epoch [{}], loss: {:.4f}, acc: {:.4f}\".format(epoch, result['loss'], result['acc']))\n",
        "\n",
        "\n",
        "'''\n",
        "###############################\n",
        "****   CNN Architecture  *****\n",
        "###############################\n",
        "'''\n",
        "class CIFAR10Model(ImageClassificationBase):\n",
        "  def __init__(self, InputSize, OutputSize):\n",
        "      \"\"\"\n",
        "      Inputs: \n",
        "      InputSize - Size of the Input\n",
        "      OutputSize - Size of the Output\n",
        "      \"\"\"\n",
        "      #############################\n",
        "      # Fill your network initialization of choice here!\n",
        "      #############################\n",
        "      super().__init__()\n",
        "      ''' CNN model'''\n",
        "      self.layer1 = nn.Sequential(\n",
        "          nn.Conv2d(3, 64, kernel_size=3, stride=1, padding=1),\n",
        "          nn.BatchNorm2d(64),\n",
        "          nn.ReLU())\n",
        "      self.layer2 = nn.Sequential(\n",
        "          nn.Conv2d(64, 64, kernel_size=3, stride=1, padding=1),\n",
        "          nn.BatchNorm2d(64),\n",
        "          nn.ReLU(), \n",
        "          nn.MaxPool2d(kernel_size = 2, stride = 2))\n",
        "      self.layer3 = nn.Sequential(\n",
        "          nn.Conv2d(64, 128, kernel_size=3, stride=1, padding=1),\n",
        "          nn.BatchNorm2d(128),\n",
        "          nn.ReLU())\n",
        "      self.layer4 = nn.Sequential(\n",
        "          nn.Conv2d(128, 128, kernel_size=3, stride=1, padding=1),\n",
        "          nn.BatchNorm2d(128),\n",
        "          nn.ReLU(),\n",
        "          nn.MaxPool2d(kernel_size = 2, stride = 2))\n",
        "      self.fc = nn.Sequential(\n",
        "          nn.Linear(8*8*128, 4096),\n",
        "          nn.ReLU())\n",
        "      self.fc1= nn.Sequential(\n",
        "          nn.Linear(4096, OutputSize))\n",
        "      \n",
        "\n",
        "  def forward(self, xb):\n",
        "      \"\"\"\n",
        "      Input:\n",
        "      xb is a MiniBatch of the current image\n",
        "      Outputs:\n",
        "      out - output of the network\n",
        "      \"\"\"\n",
        "      #############################\n",
        "      # Fill your network structure of choice here!\n",
        "      #############################\n",
        "      ''' CNN model'''\n",
        "      out = self.layer1(xb)\n",
        "      out = self.layer2(out)\n",
        "      out = self.layer3(out)\n",
        "      out = self.layer4(out)\n",
        "      out = torch.flatten(out, 1)\n",
        "      out = self.fc(out)\n",
        "      out = self.fc1(out)\n",
        "      out = F.softmax(out)\n",
        "      return out"
      ]
    },
    {
      "cell_type": "code",
      "execution_count": null,
      "metadata": {
        "id": "2SPck2oRdL5j"
      },
      "outputs": [],
      "source": [
        "import time\n",
        "import glob\n",
        "import os\n",
        "import sys\n",
        "import matplotlib.pyplot as plt\n",
        "import numpy as np\n",
        "import seaborn as sns\n",
        "\n",
        "def tic():\n",
        "    \"\"\"\n",
        "    Function to start timer\n",
        "    Tries to mimic tic() toc() in MATLAB\n",
        "    \"\"\"\n",
        "    StartTime = time.time()\n",
        "    return StartTime\n",
        "\n",
        "def toc(StartTime):\n",
        "    \"\"\"\n",
        "    Function to stop timer\n",
        "    Tries to mimic tic() toc() in MATLAB\n",
        "    \"\"\"\n",
        "    return time.time() - StartTime\n",
        "\n",
        "def FindLatestModel(CheckPointPath):\n",
        "    \"\"\"\n",
        "    Finds Latest Model in CheckPointPath\n",
        "    Inputs:\n",
        "    CheckPointPath - Path where you have stored checkpoints\n",
        "    Outputs:\n",
        "    LatestFile - File Name of the latest checkpoint\n",
        "    \"\"\"\n",
        "    FileList = glob.glob(CheckPointPath + '*.ckpt.index') # * means all if need specific format then *.csv\n",
        "    LatestFile = max(FileList, key=os.path.getctime)\n",
        "    # Strip everything else except needed information\n",
        "    LatestFile = LatestFile.replace(CheckPointPath, '')\n",
        "    LatestFile = LatestFile.replace('.ckpt.index', '')\n",
        "    return LatestFile\n",
        "\n",
        "\n",
        "def convertToOneHot(vector, NumClasses):\n",
        "    \"\"\"\n",
        "    Inputs:\n",
        "    vector - vector of argmax indexes\n",
        "    NumClasses - Number of classes\n",
        "    \"\"\"\n",
        "    return np.equal.outer(vector, np.arange(NumClasses)).astype(np.float)"
      ]
    },
    {
      "cell_type": "markdown",
      "metadata": {
        "id": "A04kYJ_rJxEP"
      },
      "source": [
        "### Train your neural network"
      ]
    },
    {
      "cell_type": "code",
      "execution_count": null,
      "metadata": {
        "collapsed": true,
        "id": "hcGOFRE2JueB"
      },
      "outputs": [],
      "source": [
        "import torch\n",
        "import torchvision\n",
        "from torch.utils.tensorboard import SummaryWriter\n",
        "from torchvision import datasets, transforms\n",
        "from torch.optim import AdamW\n",
        "from torchvision.datasets import CIFAR10\n",
        "import cv2\n",
        "import sys\n",
        "import os\n",
        "import numpy as np\n",
        "import random\n",
        "import skimage\n",
        "import PIL\n",
        "import os\n",
        "import glob\n",
        "import random\n",
        "from skimage import data, exposure, img_as_float\n",
        "import matplotlib.pyplot as plt\n",
        "import numpy as np\n",
        "import time\n",
        "from torchvision.transforms import ToTensor\n",
        "import argparse\n",
        "import shutil\n",
        "import string\n",
        "from termcolor import colored, cprint\n",
        "import math as m\n",
        "from tqdm.notebook import tqdm\n",
        "\n",
        "def SetupAll(CheckPointPath):\n",
        "    \"\"\"\n",
        "    Inputs: \n",
        "    CheckPointPath - Path to save checkpoints/model\n",
        "    Outputs:\n",
        "    SaveCheckPoint - Save checkpoint every SaveCheckPoint iteration in every epoch, checkpoint saved automatically after every epoch\n",
        "    ImageSize - Size of the image\n",
        "    NumTrainSamples - length(Train)\n",
        "    TrainLabels - Labels corresponding to Train\n",
        "    NumClasses - Number of classes\n",
        "    \"\"\"\n",
        "    # Read and Setup Labels\n",
        "    LabelsPathTrain = '/content/data/TxtFiles/LabelsTrain.txt'\n",
        "    TrainLabels = ReadLabels(LabelsPathTrain)\n",
        "\n",
        "    # If CheckPointPath doesn't exist make the path\n",
        "    if(not (os.path.isdir(CheckPointPath))):\n",
        "       os.makedirs(CheckPointPath)\n",
        "        \n",
        "    # Save checkpoint every SaveCheckPoint iteration in every epoch, checkpoint saved automatically after every epoch\n",
        "    SaveCheckPoint = 100 \n",
        "    \n",
        "    # Image Input Shape\n",
        "    ImageSize = [32, 32, 3]\n",
        "    NumTrainSamples = len(TrainSet)\n",
        "\n",
        "    # Number of classes\n",
        "    NumClasses = 10\n",
        "\n",
        "    return SaveCheckPoint, ImageSize, NumTrainSamples, TrainLabels, NumClasses\n",
        "\n",
        "\n",
        "def ReadLabels(LabelsPathTrain):\n",
        "    if(not (os.path.isfile(LabelsPathTrain))):\n",
        "        print('ERROR: Train Labels do not exist in '+LabelsPathTrain)\n",
        "        sys.exit()\n",
        "    else:\n",
        "        TrainLabels = open(LabelsPathTrain, 'r')\n",
        "        TrainLabels = TrainLabels.read()\n",
        "        TrainLabels = map(float, TrainLabels.split())\n",
        "\n",
        "    return TrainLabels\n",
        "    \n",
        "\n",
        "def ReadDirNames(ReadPath):\n",
        "    \"\"\"\n",
        "    Inputs: \n",
        "    ReadPath is the path of the file you want to read\n",
        "    Outputs:\n",
        "    DirNames is the data loaded from /content/data/TxtFiles/DirNames.txt which has full path to all image files without extension\n",
        "    \"\"\"\n",
        "    # Read text files\n",
        "    DirNames = open(ReadPath, 'r')\n",
        "    DirNames = DirNames.read()\n",
        "    DirNames = DirNames.split()\n",
        "    return DirNames\n",
        "\n",
        "    \n",
        "def GenerateBatch(TrainSet, TrainLabels, ImageSize, MiniBatchSize):\n",
        "    \"\"\"\n",
        "    Inputs: \n",
        "    TrainSet - Variable with Subfolder paths to train files\n",
        "    NOTE that Train can be replaced by Val/Test for generating batch corresponding to validation (held-out testing in this case)/testing\n",
        "    TrainLabels - Labels corresponding to Train\n",
        "    NOTE that TrainLabels can be replaced by Val/TestLabels for generating batch corresponding to validation (held-out testing in this case)/testing\n",
        "    ImageSize is the Size of the Image\n",
        "    MiniBatchSize is the size of the MiniBatch\n",
        "   \n",
        "    Outputs:\n",
        "    I1Batch - Batch of images\n",
        "    LabelBatch - Batch of one-hot encoded labels \n",
        "    \"\"\"\n",
        "    I1Batch     = []\n",
        "    LabelBatch = []\n",
        "    \n",
        "    ImageNum = 0\n",
        "    while ImageNum < MiniBatchSize:\n",
        "        # Generate random image\n",
        "        RandIdx = random.randint(0, len(TrainSet)-1)\n",
        "        I1, Label = TrainSet[RandIdx]\n",
        "        ImageNum += 1\n",
        "    \t  ##########################################################\n",
        "    \t  # Add any standardization or data augmentation here!\n",
        "    \t  ##########################################################\n",
        "        # Append All Images and Mask\n",
        "        I1Batch.append(I1)\n",
        "        LabelBatch.append(torch.tensor(Label))\n",
        "        # Rot by 90 degree\n",
        "        I1Batch.append(torch.rot90(I1, 1, [1,2]))\n",
        "        LabelBatch.append(torch.tensor(Label))\n",
        "        # Rot by -90 degree\n",
        "        I1Batch.append(torch.rot90(I1, -1, [1,2]))\n",
        "        LabelBatch.append(torch.tensor(Label))\n",
        "        # Rot by 180 degree\n",
        "        I1Batch.append(torch.rot90(I1, 2, [1,2]))\n",
        "        LabelBatch.append(torch.tensor(Label))\n",
        "\n",
        "\n",
        "    # return torch.stack(I1Batch), torch.stack(LabelBatch)   \n",
        "    return torch.stack(I1Batch).to(device), torch.stack(LabelBatch).to(device)\n",
        "\n",
        "\n",
        "def PrettyPrint(NumEpochs, DivTrain, MiniBatchSize, NumTrainSamples, LatestFile):\n",
        "    \"\"\"\n",
        "    Prints all stats with all arguments\n",
        "    \"\"\"\n",
        "    print('Number of Epochs Training will run for ' + str(NumEpochs))\n",
        "    print('Factor of reduction in training data is ' + str(DivTrain))\n",
        "    print('Mini Batch Size ' + str(MiniBatchSize))\n",
        "    print('Number of Training Images ' + str(NumTrainSamples))\n",
        "    if LatestFile is not None:\n",
        "        print('Loading latest checkpoint with the name ' + LatestFile)              \n",
        "\n",
        "def TrainOperation(TrainLabels, NumTrainSamples, ImageSize,\n",
        "                   NumEpochs, MiniBatchSize, SaveCheckPoint, CheckPointPath,\n",
        "                   DivTrain, LatestFile, TrainSet, LogsPath):\n",
        "    \"\"\"\n",
        "    Inputs: \n",
        "    TrainLabels - Labels corresponding to Train/Test\n",
        "    NumTrainSamples - length(Train)\n",
        "    ImageSize - Size of the image\n",
        "    NumEpochs - Number of passes through the Train data\n",
        "    MiniBatchSize is the size of the MiniBatch\n",
        "    SaveCheckPoint - Save checkpoint every SaveCheckPoint iteration in every epoch, checkpoint saved automatically after every epoch\n",
        "    CheckPointPath - Path to save checkpoints/model\n",
        "    DivTrain - Divide the data by this number for Epoch calculation, use if you have a lot of dataor for debugging code\n",
        "    LatestFile - Latest checkpointfile to continue training\n",
        "    TrainSet - The training dataset\n",
        "    LogsPath - Path to save Tensorboard Logs\n",
        "    Outputs:\n",
        "    Saves Trained network in CheckPointPath and Logs to LogsPath\n",
        "    \"\"\"\n",
        "    # Initialize the model\n",
        "    model = CIFAR10Model(InputSize=3*32*32,OutputSize=10)\n",
        "    model = model.to(device)\n",
        "    \n",
        "    ###############################################\n",
        "    # Fill your optimizer of choice here!\n",
        "    ###############################################\n",
        "    # Optimizer = torch.optim.Adam(model.parameters(), lr=0.001)\n",
        "    Optimizer = torch.optim.SGD(model.parameters(), lr=1e-2) # Optimizer used for base model as well as the Data Augmented model\n",
        "    # Optimizer = torch.optim.SGD(model.parameters(), lr=0.001) # Optimizer used modified\n",
        "    print(\"Optimizer Information: \\n\", Optimizer.state_dict)\n",
        "    \n",
        "    # Tensorboard\n",
        "    # writer.add_graph(net,images)  # used to visualize the network\n",
        "    from torchsummary import summary\n",
        "    summary(model,input_size=(3,32,32))\n",
        "    # Create a summary to monitor loss tensor\n",
        "    Writer = SummaryWriter(LogsPath)\n",
        "    if LatestFile is not None:\n",
        "        CheckPoint = torch.load(CheckPointPath + LatestFile + '.ckpt')\n",
        "        # Extract only numbers from the name\n",
        "        StartEpoch = int(''.join(c for c in LatestFile.split('a')[0] if c.isdigit()))\n",
        "        model.load_state_dict(CheckPoint['model_state_dict'])\n",
        "        print('Loaded latest checkpoint with the name ' + LatestFile + '....')\n",
        "    else:\n",
        "        StartEpoch = 0\n",
        "        print('New model initialized....')\n",
        "        \n",
        "    for Epochs in tqdm(range(StartEpoch, NumEpochs)):\n",
        "        NumIterationsPerEpoch = int(NumTrainSamples/MiniBatchSize/DivTrain)\n",
        "        for PerEpochCounter in tqdm(range(NumIterationsPerEpoch)):\n",
        "            Batch = GenerateBatch(TrainSet, TrainLabels, ImageSize, MiniBatchSize)\n",
        "\n",
        "            # Predict output with forward pass\n",
        "            LossThisBatch = model.training_step(Batch)\n",
        "\n",
        "            Optimizer.zero_grad()\n",
        "            LossThisBatch.backward()\n",
        "            Optimizer.step()\n",
        "            \n",
        "            # Save checkpoint every some SaveCheckPoint's iterations\n",
        "            if PerEpochCounter % SaveCheckPoint == 0:\n",
        "                # Save the Model learnt in this epoch\n",
        "                SaveName =  CheckPointPath + str(Epochs) + 'a' + str(PerEpochCounter) + 'model.ckpt'\n",
        "                \n",
        "                torch.save({'epoch': Epochs,'model_state_dict': model.state_dict(),'optimizer_state_dict': Optimizer.state_dict(),'loss': LossThisBatch}, SaveName)\n",
        "                print('\\n' + SaveName + ' Model Saved...')\n",
        "\n",
        "            result = model.validation_step(Batch)\n",
        "            model.epoch_end(Epochs*NumIterationsPerEpoch + PerEpochCounter, result)\n",
        "            # Tensorboard\n",
        "            Writer.add_scalar('LossEveryIter', result[\"loss\"], Epochs*NumIterationsPerEpoch + PerEpochCounter)\n",
        "            Writer.add_scalar('Accuracy', result[\"acc\"], Epochs*NumIterationsPerEpoch + PerEpochCounter)\n",
        "            # If you don't flush the tensorboard doesn't update until a lot of iterations!\n",
        "            Writer.flush()\n",
        "\n",
        "        # Save model every epoch\n",
        "        SaveName = CheckPointPath + str(Epochs) + 'model.ckpt'\n",
        "        torch.save({'epoch': Epochs,'model_state_dict': model.state_dict(),'optimizer_state_dict': Optimizer.state_dict(),'loss': LossThisBatch}, SaveName)\n",
        "        print('\\n' + SaveName + ' Model Saved...')\n",
        "        \n",
        "\n",
        "\n",
        "# Default Hyperparameters\n",
        "NumEpochs = 50\n",
        "TrainSet = torchvision.datasets.CIFAR10(root='./data', train=True,\n",
        "                                        download=True, transform=ToTensor())\n",
        "\n",
        "DivTrain = 1.0\n",
        "MiniBatchSize = 100\n",
        "LoadCheckPoint = 0\n",
        "CheckPointPath = \"/content/Checkpoints/\"\n",
        "LogsPath = \"/content/Logs\"\n",
        "\n",
        "# Setup all needed parameters including file reading\n",
        "SaveCheckPoint, ImageSize, NumTrainSamples, TrainLabels, NumClasses = SetupAll(CheckPointPath)\n",
        "\n",
        "# Find Latest Checkpoint File\n",
        "if LoadCheckPoint==1:\n",
        "    LatestFile = FindLatestModel(CheckPointPath)\n",
        "else:\n",
        "    LatestFile = None\n",
        "\n",
        "# Pretty print stats\n",
        "PrettyPrint(NumEpochs, DivTrain, MiniBatchSize, NumTrainSamples, LatestFile)\n",
        "\n",
        "TrainOperation(TrainLabels, NumTrainSamples, ImageSize,\n",
        "                NumEpochs, MiniBatchSize, SaveCheckPoint, CheckPointPath,\n",
        "                DivTrain, LatestFile, TrainSet, LogsPath)"
      ]
    },
    {
      "cell_type": "code",
      "execution_count": null,
      "metadata": {
        "id": "CEyvEpWsxJYs"
      },
      "outputs": [],
      "source": [
        "#!kill $(ps -e | grep 'tensorboard' | awk '{print $1}')\n",
        "%load_ext tensorboard\n",
        "%tensorboard --logdir {LogsPath} --host \"0.0.0.0\" --port 6006"
      ]
    },
    {
      "cell_type": "markdown",
      "metadata": {
        "id": "HKVVLygOJ1kd"
      },
      "source": [
        "### Test your neural network"
      ]
    },
    {
      "cell_type": "code",
      "execution_count": null,
      "metadata": {
        "id": "lY-9nSVBJ282"
      },
      "outputs": [],
      "source": [
        "from torchvision.transforms.functional import to_tensor\n",
        "import cv2\n",
        "import os\n",
        "import sys\n",
        "import glob\n",
        "import random\n",
        "from skimage import data, exposure, img_as_float\n",
        "import matplotlib.pyplot as plt\n",
        "import numpy as np\n",
        "import time\n",
        "from torchvision.transforms import ToTensor\n",
        "import argparse\n",
        "import shutil\n",
        "import string\n",
        "import math as m\n",
        "from sklearn.metrics import confusion_matrix\n",
        "from tqdm.notebook import tqdm\n",
        "import torch\n",
        "\n",
        "def SetupAll():\n",
        "    \"\"\"\n",
        "    Outputs:\n",
        "    ImageSize - Size of the Image\n",
        "    \"\"\"   \n",
        "    # Image Input Shape\n",
        "    ImageSize = [32, 32, 3]\n",
        "\n",
        "    return ImageSize\n",
        "\n",
        "def StandardizeInputs(Img):\n",
        "    ##########################################################################\n",
        "    # Add any standardization or cropping/resizing if used in Training here!\n",
        "    ##########################################################################\n",
        "    return Img\n",
        "\n",
        "\n",
        "def ReadImages(Img):\n",
        "    \"\"\"\n",
        "    Outputs:\n",
        "    I1Combined - I1 image after any standardization and/or cropping/resizing to ImageSize\n",
        "    I1 - Original I1 image for visualization purposes only\n",
        "    \"\"\"    \n",
        "    I1 = Img\n",
        "    \n",
        "    if(I1 is None):\n",
        "        # OpenCV returns empty list if image is not read! \n",
        "        print('ERROR: Image I1 cannot be read')\n",
        "        sys.exit()\n",
        "        \n",
        "    I1S = StandardizeInputs(np.float32(I1))\n",
        "    I1Combined = np.expand_dims(I1S, axis=0)\n",
        "    I1Combined = torch.from_numpy(I1Combined) \n",
        "\n",
        "    return I1Combined.to(device), I1\n",
        "                \n",
        "\n",
        "def TestOperation(ImageSize, ModelPath, TestSet, LabelsPathPred):\n",
        "    \"\"\"\n",
        "    Inputs: \n",
        "    ImageSize is the size of the image\n",
        "    ModelPath - Path to load trained model from\n",
        "    TestSet - The test dataset\n",
        "    LabelsPathPred - Path to save predictions\n",
        "    Outputs:\n",
        "    Predictions written to /content/data/TxtFiles/PredOut.txt\n",
        "    \"\"\"\n",
        "    # Predict output with forward pass, MiniBatchSize for Test is 1\n",
        "    model = CIFAR10Model(InputSize=3*32*32,OutputSize=10) \n",
        "    model = model.to(device)\n",
        "\n",
        "    CheckPoint = torch.load(ModelPath)\n",
        "    model.load_state_dict(CheckPoint['model_state_dict'])\n",
        "    print('Number of parameters in this model are %d ' % len(model.state_dict().items()))\n",
        "    \n",
        "    PredProb = []\n",
        "    OutSaveT = open(LabelsPathPred, 'w')\n",
        "\n",
        "    for count in tqdm(range(len(TestSet))): \n",
        "        Img, Label = TestSet[count]\n",
        "        Img, ImgOrg = ReadImages(Img)\n",
        "        # print(Img)\n",
        "        # plt.imshow(ImgOrg)\n",
        "        PredT = torch.argmax(model(Img)).item()\n",
        "\n",
        "        OutSaveT.write(str(PredT)+'\\n')\n",
        "    OutSaveT.close()\n",
        "\n",
        "def Accuracy(Pred, GT):\n",
        "    \"\"\"\n",
        "    Inputs: \n",
        "    Pred are the predicted labels\n",
        "    GT are the ground truth labels\n",
        "    Outputs:\n",
        "    Accuracy in percentage\n",
        "    \"\"\"\n",
        "    return (np.sum(np.array(Pred)==np.array(GT))*100.0/len(Pred))\n",
        "\n",
        "def ReadLabels(LabelsPathTest, LabelsPathPred):\n",
        "    if(not (os.path.isfile(LabelsPathTest))):\n",
        "        print('ERROR: Test Labels do not exist in '+LabelsPathTest)\n",
        "        sys.exit()\n",
        "    else:\n",
        "        LabelTest = open(LabelsPathTest, 'r')\n",
        "        LabelTest = LabelTest.read()\n",
        "        LabelTest = map(float, LabelTest.split())\n",
        "\n",
        "    if(not (os.path.isfile(LabelsPathPred))):\n",
        "        print('ERROR: Pred Labels do not exist in '+LabelsPathPred)\n",
        "        sys.exit()\n",
        "    else:\n",
        "        LabelPred = open(LabelsPathPred, 'r')\n",
        "        LabelPred = LabelPred.read()\n",
        "        LabelPred = map(float, LabelPred.split())\n",
        "        \n",
        "    return LabelTest, LabelPred\n",
        "\n",
        "def ConfusionMatrix(LabelsTrue, LabelsPred):\n",
        "    \"\"\"\n",
        "    LabelsTrue - True labels\n",
        "    LabelsPred - Predicted labels\n",
        "    \"\"\"\n",
        "    # Get the confusion matrix using sklearn.\n",
        "    LabelsTrue, LabelsPred = list(LabelsTrue), list(LabelsPred)\n",
        "    cm = confusion_matrix(y_true=LabelsTrue,  # True class for test-set.\n",
        "                          y_pred=LabelsPred)  # Predicted class.\n",
        "\n",
        "    # # Print the confusion matrix as text.\n",
        "    # for i in range(10):\n",
        "    #     print(str(cm[i, :]) + ' ({0})'.format(i))\n",
        "\n",
        "    # # Print the class-numbers for easy reference.\n",
        "    # class_numbers = [\" ({0})\".format(i) for i in range(10)]\n",
        "    # print(\"\".join(class_numbers))\n",
        "    acc = Accuracy(LabelsPred, LabelsTrue)\n",
        "\n",
        "    print('Accuracy: '+ str(acc), '%')\n",
        "    return acc, cm"
      ]
    },
    {
      "cell_type": "code",
      "execution_count": null,
      "metadata": {
        "id": "zJg06OuMTU-g"
      },
      "outputs": [],
      "source": [
        "'''\n",
        "################### Testing ###################\n",
        "'''\n",
        "ModelPath       = \"/content/Checkpoints/\"\n",
        "LabelsPath      = \"/content/data/TxtFiles/LabelsTest.txt\"\n",
        "LogsPath        = \"/content/TestLogs\"\n",
        "PredLabelsPath  = '/content/data/TxtFiles/' # Path to save predicted labels\n",
        "TestSet = CIFAR10(root='data/', train=False, transform=ToTensor())\n",
        "\n",
        "def Train_plot(ModelPath,LabelsPath,TestSet,PredLabelsPath):\n",
        "  \"\"\"\n",
        "  Inputs: \n",
        "  ModelPath - Path to load trained model from\n",
        "  TestSet - The test dataset\n",
        "  PredLabelsPath - Path to save predictions\n",
        "  Outputs:\n",
        "  Predictions written to /content/data/TxtFiles/\n",
        "  \"\"\"\n",
        "  FileList = glob.glob(ModelPath + '*.ckpt') # * means all if need specific format then *.csv\n",
        "  FileNames = []\n",
        "\n",
        "  FileList = sorted(FileList)\n",
        "\n",
        "  for fileName in FileList:\n",
        "    res = fileName.split('/')\n",
        "    for string in res:\n",
        "      if \".ckpt\" in string:\n",
        "        string = string.split('.')[0]\n",
        "        FileNames.append(string)\n",
        "        # print(string)\n",
        "\n",
        "  Writer = SummaryWriter(LogsPath)\n",
        "  i = 0;\n",
        "  for filePath in FileList:\n",
        "    PredPath = PredLabelsPath + FileNames[i] + \".txt\"\n",
        "    ImageSize = SetupAll()\n",
        "    TestOperation(ImageSize, filePath, TestSet, PredPath)\n",
        "    # Plot Confusion Matrix\n",
        "    LabelsTrue, LabelsPred = ReadLabels(LabelsPath, PredPath)\n",
        "    Acc, CM = ConfusionMatrix(LabelsTrue, LabelsPred)\n",
        "    Writer.add_scalar('Test_Accuracy', Acc,i*100)\n",
        "    Writer.flush()\n",
        "    i = i+1;\n",
        "  plt.figure(figsize = (10,7))\n",
        "  sns.heatmap(CM, annot=True, cmap=\"YlGnBu\", fmt=\"d\")\n",
        "  print(\"Test Accuracy = \", Acc, \"%\")\n",
        "  plt.show()\n",
        "\n",
        "Train_plot(ModelPath, LabelsPath, TestSet, PredLabelsPath)"
      ]
    },
    {
      "cell_type": "code",
      "execution_count": null,
      "metadata": {
        "id": "zKTXV3_Tu60D"
      },
      "outputs": [],
      "source": [
        "!kill $(ps -e | grep 'tensorboard' | awk '{print $1}')\n",
        "%reload_ext tensorboard\n",
        "%tensorboard --logdir {LogsPath} --host \"0.0.0.0\" --port 6006"
      ]
    }
  ],
  "metadata": {
    "accelerator": "GPU",
    "colab": {
      "collapsed_sections": [],
      "provenance": []
    },
    "gpuClass": "standard",
    "kernelspec": {
      "display_name": "Python 3.9.10 ('py39')",
      "language": "python",
      "name": "python3"
    },
    "language_info": {
      "codemirror_mode": {
        "name": "ipython",
        "version": 3
      },
      "file_extension": ".py",
      "mimetype": "text/x-python",
      "name": "python",
      "nbconvert_exporter": "python",
      "pygments_lexer": "ipython3",
      "version": "3.9.10"
    },
    "orig_nbformat": 4,
    "vscode": {
      "interpreter": {
        "hash": "2762af0fb94193cc770e2dbb99b50503f4c838317f9fa63bb8a7461c3d6fd280"
      }
    }
  },
  "nbformat": 4,
  "nbformat_minor": 0
}
